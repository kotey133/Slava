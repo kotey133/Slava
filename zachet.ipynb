{
 "cells": [
  {
   "cell_type": "markdown",
   "metadata": {},
   "source": [
    "# ЗАЧЕТ"
   ]
  },
  {
   "cell_type": "markdown",
   "metadata": {},
   "source": [
    "Мой срез находится в репрезитории по ссылке https://github.com/kotey133/Slava/blob/main/%D0%A1%D0%A0%D0%95%D0%97%20%D0%A1%D0%95%D0%9C%D0%98%D0%9D%D0%90%D0%A01111.ipynb"
   ]
  },
  {
   "cell_type": "code",
   "execution_count": 3,
   "metadata": {},
   "outputs": [],
   "source": [
    "import pandas as pd \n",
    "import matplotlib.pyplot as plt\n",
    "import numpy as np \n",
    "from sklearn.linear_model import LinearRegression\n",
    "import statsmodels.api as sm"
   ]
  },
  {
   "cell_type": "code",
   "execution_count": 4,
   "metadata": {},
   "outputs": [
    {
     "data": {
      "text/html": [
       "<div>\n",
       "<style scoped>\n",
       "    .dataframe tbody tr th:only-of-type {\n",
       "        vertical-align: middle;\n",
       "    }\n",
       "\n",
       "    .dataframe tbody tr th {\n",
       "        vertical-align: top;\n",
       "    }\n",
       "\n",
       "    .dataframe thead th {\n",
       "        text-align: right;\n",
       "    }\n",
       "</style>\n",
       "<table border=\"1\" class=\"dataframe\">\n",
       "  <thead>\n",
       "    <tr style=\"text-align: right;\">\n",
       "      <th></th>\n",
       "      <th>longitude</th>\n",
       "      <th>latitude</th>\n",
       "      <th>housing_median_age</th>\n",
       "      <th>total_rooms</th>\n",
       "      <th>total_bedrooms</th>\n",
       "      <th>population</th>\n",
       "      <th>households</th>\n",
       "      <th>median_income</th>\n",
       "      <th>median_house_value</th>\n",
       "      <th>ocean_proximity</th>\n",
       "    </tr>\n",
       "  </thead>\n",
       "  <tbody>\n",
       "    <tr>\n",
       "      <th>0</th>\n",
       "      <td>-122.23</td>\n",
       "      <td>37.88</td>\n",
       "      <td>41.0</td>\n",
       "      <td>880.0</td>\n",
       "      <td>129.0</td>\n",
       "      <td>322.0</td>\n",
       "      <td>126.0</td>\n",
       "      <td>8.3252</td>\n",
       "      <td>452600.0</td>\n",
       "      <td>NEAR BAY</td>\n",
       "    </tr>\n",
       "    <tr>\n",
       "      <th>1</th>\n",
       "      <td>-122.22</td>\n",
       "      <td>37.86</td>\n",
       "      <td>21.0</td>\n",
       "      <td>7099.0</td>\n",
       "      <td>1106.0</td>\n",
       "      <td>2401.0</td>\n",
       "      <td>1138.0</td>\n",
       "      <td>8.3014</td>\n",
       "      <td>358500.0</td>\n",
       "      <td>NEAR BAY</td>\n",
       "    </tr>\n",
       "    <tr>\n",
       "      <th>2</th>\n",
       "      <td>-122.24</td>\n",
       "      <td>37.85</td>\n",
       "      <td>52.0</td>\n",
       "      <td>1467.0</td>\n",
       "      <td>190.0</td>\n",
       "      <td>496.0</td>\n",
       "      <td>177.0</td>\n",
       "      <td>7.2574</td>\n",
       "      <td>352100.0</td>\n",
       "      <td>NEAR BAY</td>\n",
       "    </tr>\n",
       "    <tr>\n",
       "      <th>3</th>\n",
       "      <td>-122.25</td>\n",
       "      <td>37.85</td>\n",
       "      <td>52.0</td>\n",
       "      <td>1274.0</td>\n",
       "      <td>235.0</td>\n",
       "      <td>558.0</td>\n",
       "      <td>219.0</td>\n",
       "      <td>5.6431</td>\n",
       "      <td>341300.0</td>\n",
       "      <td>NEAR BAY</td>\n",
       "    </tr>\n",
       "    <tr>\n",
       "      <th>4</th>\n",
       "      <td>-122.25</td>\n",
       "      <td>37.85</td>\n",
       "      <td>52.0</td>\n",
       "      <td>1627.0</td>\n",
       "      <td>280.0</td>\n",
       "      <td>565.0</td>\n",
       "      <td>259.0</td>\n",
       "      <td>3.8462</td>\n",
       "      <td>342200.0</td>\n",
       "      <td>NEAR BAY</td>\n",
       "    </tr>\n",
       "    <tr>\n",
       "      <th>...</th>\n",
       "      <td>...</td>\n",
       "      <td>...</td>\n",
       "      <td>...</td>\n",
       "      <td>...</td>\n",
       "      <td>...</td>\n",
       "      <td>...</td>\n",
       "      <td>...</td>\n",
       "      <td>...</td>\n",
       "      <td>...</td>\n",
       "      <td>...</td>\n",
       "    </tr>\n",
       "    <tr>\n",
       "      <th>20635</th>\n",
       "      <td>-121.09</td>\n",
       "      <td>39.48</td>\n",
       "      <td>25.0</td>\n",
       "      <td>1665.0</td>\n",
       "      <td>374.0</td>\n",
       "      <td>845.0</td>\n",
       "      <td>330.0</td>\n",
       "      <td>1.5603</td>\n",
       "      <td>78100.0</td>\n",
       "      <td>INLAND</td>\n",
       "    </tr>\n",
       "    <tr>\n",
       "      <th>20636</th>\n",
       "      <td>-121.21</td>\n",
       "      <td>39.49</td>\n",
       "      <td>18.0</td>\n",
       "      <td>697.0</td>\n",
       "      <td>150.0</td>\n",
       "      <td>356.0</td>\n",
       "      <td>114.0</td>\n",
       "      <td>2.5568</td>\n",
       "      <td>77100.0</td>\n",
       "      <td>INLAND</td>\n",
       "    </tr>\n",
       "    <tr>\n",
       "      <th>20637</th>\n",
       "      <td>-121.22</td>\n",
       "      <td>39.43</td>\n",
       "      <td>17.0</td>\n",
       "      <td>2254.0</td>\n",
       "      <td>485.0</td>\n",
       "      <td>1007.0</td>\n",
       "      <td>433.0</td>\n",
       "      <td>1.7000</td>\n",
       "      <td>92300.0</td>\n",
       "      <td>INLAND</td>\n",
       "    </tr>\n",
       "    <tr>\n",
       "      <th>20638</th>\n",
       "      <td>-121.32</td>\n",
       "      <td>39.43</td>\n",
       "      <td>18.0</td>\n",
       "      <td>1860.0</td>\n",
       "      <td>409.0</td>\n",
       "      <td>741.0</td>\n",
       "      <td>349.0</td>\n",
       "      <td>1.8672</td>\n",
       "      <td>84700.0</td>\n",
       "      <td>INLAND</td>\n",
       "    </tr>\n",
       "    <tr>\n",
       "      <th>20639</th>\n",
       "      <td>-121.24</td>\n",
       "      <td>39.37</td>\n",
       "      <td>16.0</td>\n",
       "      <td>2785.0</td>\n",
       "      <td>616.0</td>\n",
       "      <td>1387.0</td>\n",
       "      <td>530.0</td>\n",
       "      <td>2.3886</td>\n",
       "      <td>89400.0</td>\n",
       "      <td>INLAND</td>\n",
       "    </tr>\n",
       "  </tbody>\n",
       "</table>\n",
       "<p>20640 rows × 10 columns</p>\n",
       "</div>"
      ],
      "text/plain": [
       "       longitude  latitude  housing_median_age  total_rooms  total_bedrooms  \\\n",
       "0        -122.23     37.88                41.0        880.0           129.0   \n",
       "1        -122.22     37.86                21.0       7099.0          1106.0   \n",
       "2        -122.24     37.85                52.0       1467.0           190.0   \n",
       "3        -122.25     37.85                52.0       1274.0           235.0   \n",
       "4        -122.25     37.85                52.0       1627.0           280.0   \n",
       "...          ...       ...                 ...          ...             ...   \n",
       "20635    -121.09     39.48                25.0       1665.0           374.0   \n",
       "20636    -121.21     39.49                18.0        697.0           150.0   \n",
       "20637    -121.22     39.43                17.0       2254.0           485.0   \n",
       "20638    -121.32     39.43                18.0       1860.0           409.0   \n",
       "20639    -121.24     39.37                16.0       2785.0           616.0   \n",
       "\n",
       "       population  households  median_income  median_house_value  \\\n",
       "0           322.0       126.0         8.3252            452600.0   \n",
       "1          2401.0      1138.0         8.3014            358500.0   \n",
       "2           496.0       177.0         7.2574            352100.0   \n",
       "3           558.0       219.0         5.6431            341300.0   \n",
       "4           565.0       259.0         3.8462            342200.0   \n",
       "...           ...         ...            ...                 ...   \n",
       "20635       845.0       330.0         1.5603             78100.0   \n",
       "20636       356.0       114.0         2.5568             77100.0   \n",
       "20637      1007.0       433.0         1.7000             92300.0   \n",
       "20638       741.0       349.0         1.8672             84700.0   \n",
       "20639      1387.0       530.0         2.3886             89400.0   \n",
       "\n",
       "      ocean_proximity  \n",
       "0            NEAR BAY  \n",
       "1            NEAR BAY  \n",
       "2            NEAR BAY  \n",
       "3            NEAR BAY  \n",
       "4            NEAR BAY  \n",
       "...               ...  \n",
       "20635          INLAND  \n",
       "20636          INLAND  \n",
       "20637          INLAND  \n",
       "20638          INLAND  \n",
       "20639          INLAND  \n",
       "\n",
       "[20640 rows x 10 columns]"
      ]
     },
     "execution_count": 4,
     "metadata": {},
     "output_type": "execute_result"
    }
   ],
   "source": [
    "df = pd.read_csv('https://raw.githubusercontent.com/artamonoff/Econometrica/master/python-notebooks/data-csv/californigaHousingPrice.csv')\n",
    "\n",
    "df\n"
   ]
  },
  {
   "cell_type": "markdown",
   "metadata": {},
   "source": [
    "Переменные датасета californigaHousingPrice:\n",
    " 1. longitude - долгота\n",
    " 2. latitude - широта\n",
    " 3. housing_median_age - медианный возраст жилого помещения\n",
    " 4. total_rooms - количество комнат в помещении или доме\n",
    " 5. total_bedrooms - количество спален в помещении или доме\n",
    " 6. population - общее население в определенном районе\n",
    " 7. households - количество домохозяйств в определенном районе\n",
    " 8. median_income - медианный доход жителей в определенном районе\n",
    " 9. median_house_value - медианная стоимость жилья в определенном районе\n",
    " 10. ocean_proximity - близость района океана"
   ]
  },
  {
   "cell_type": "markdown",
   "metadata": {},
   "source": [
    "# 2. Написать спецификацию регрессии содержащую бинарную переменную"
   ]
  },
  {
   "cell_type": "code",
   "execution_count": 5,
   "metadata": {},
   "outputs": [
    {
     "name": "stdout",
     "output_type": "stream",
     "text": [
      "Intercept: 240084.285464098\n",
      "Coefficient: [-115278.89346288  140355.7145359    19128.02632629    9349.69196254]\n"
     ]
    }
   ],
   "source": [
    "df = pd.read_csv('https://raw.githubusercontent.com/artamonoff/Econometrica/master/python-notebooks/data-csv/californigaHousingPrice.csv')\n",
    "\n",
    "df = pd.get_dummies(df, columns=['ocean_proximity'], drop_first=True)\n",
    "\n",
    "\n",
    "ocean_proximity_columns = df.columns[df.columns.str.startswith('ocean_proximity_')]\n",
    "\n",
    "X = df[ocean_proximity_columns].values  \n",
    "y = df['median_house_value'].values\n",
    "\n",
    "model = LinearRegression()\n",
    "model.fit(X, y)\n",
    "\n",
    "intercept = model.intercept_\n",
    "coefficient = model.coef_\n",
    "print('Intercept:', intercept)\n",
    "print('Coefficient:', coefficient)"
   ]
  },
  {
   "cell_type": "markdown",
   "metadata": {},
   "source": [
    "# 3. Постройте два графика линии тренда для двух различных наборов значений: бинарная переменная равна 0/1."
   ]
  },
  {
   "cell_type": "code",
   "execution_count": 6,
   "metadata": {},
   "outputs": [
    {
     "data": {
      "image/png": "[encoded data removed]",
      "text/plain": [
       "<Figure size 640x480 with 1 Axes>"
      ]
     },
     "metadata": {},
     "output_type": "display_data"
    }
   ],
   "source": [
    "x = np.array([0, 1])  \n",
    "y = np.array([3, 5])  \n",
    "\n",
    "plt.plot(x, y, marker='o')\n",
    "plt.xlabel('Binary Variable')\n",
    "plt.ylabel('Values')\n",
    "plt.title('Trend Line for Binary Variable')\n",
    "plt.xticks([0, 1], ['0', '1'])  \n",
    "plt.grid(True)\n",
    "plt.show()\n"
   ]
  },
  {
   "cell_type": "code",
   "execution_count": 7,
   "metadata": {},
   "outputs": [
    {
     "data": {
      "image/png": "[encoded data removed]",
      "text/plain": [
       "<Figure size 640x480 with 1 Axes>"
      ]
     },
     "metadata": {},
     "output_type": "display_data"
    }
   ],
   "source": [
    "x = np.array([0, 1])  \n",
    "y = np.array([2, 4])  \n",
    "\n",
    "plt.plot(x, y, marker='o')\n",
    "plt.xlabel('Binary Variable')\n",
    "plt.ylabel('Values')\n",
    "plt.title('Trend Line for Binary Variable')\n",
    "plt.xticks([0, 1], ['0', '1'])  \n",
    "plt.grid(True)\n",
    "plt.show()\n"
   ]
  },
  {
   "cell_type": "markdown",
   "metadata": {},
   "source": [
    "# 4. Измените спецификацию, проинтерпретируйте результаты\n"
   ]
  },
  {
   "cell_type": "code",
   "execution_count": 8,
   "metadata": {},
   "outputs": [
    {
     "data": {
      "image/png": "[encoded data removed]",
      "text/plain": [
       "<Figure size 640x480 with 1 Axes>"
      ]
     },
     "metadata": {},
     "output_type": "display_data"
    }
   ],
   "source": [
    "x1 = np.array([0, 1])  \n",
    "y1 = np.array([2, 4])  \n",
    "\n",
    "x2 = np.array([0, 1])  \n",
    "y2 = np.array([3, 1])  \n",
    "\n",
    "plt.plot(x1, y1, marker='o', label='Set 1')\n",
    "plt.plot(x2, y2, marker='o', label='Set 2')\n",
    "plt.xlabel('Binary Variable')\n",
    "plt.ylabel('Values')\n",
    "plt.title('Trend Line for Binary Variable')\n",
    "plt.xticks([0, 1], ['0', '1']) \n",
    "plt.legend()\n",
    "plt.grid(True)\n",
    "plt.show()\n"
   ]
  },
  {
   "cell_type": "markdown",
   "metadata": {},
   "source": [
    "# 5. С помощью p-value определите значимые коэффиценты для уровней значимости (альфа = 0.01)"
   ]
  },
  {
   "cell_type": "code",
   "execution_count": 9,
   "metadata": {},
   "outputs": [
    {
     "name": "stdout",
     "output_type": "stream",
     "text": [
      "                            OLS Regression Results                            \n",
      "==============================================================================\n",
      "Dep. Variable:     median_house_value   R-squared:                       0.646\n",
      "Model:                            OLS   Adj. R-squared:                  0.646\n",
      "Method:                 Least Squares   F-statistic:                     3112.\n",
      "Date:                Wed, 24 May 2023   Prob (F-statistic):               0.00\n",
      "Time:                        11:46:01   Log-Likelihood:            -2.5655e+05\n",
      "No. Observations:               20433   AIC:                         5.131e+05\n",
      "Df Residuals:                   20420   BIC:                         5.132e+05\n",
      "Df Model:                          12                                         \n",
      "Covariance Type:            nonrobust                                         \n",
      "==============================================================================================\n",
      "                                 coef    std err          t      P>|t|      [0.025      0.975]\n",
      "----------------------------------------------------------------------------------------------\n",
      "const                       -2.27e+06    8.8e+04    -25.791      0.000   -2.44e+06    -2.1e+06\n",
      "longitude                  -2.681e+04   1019.651    -26.296      0.000   -2.88e+04   -2.48e+04\n",
      "latitude                   -2.548e+04   1004.702    -25.363      0.000   -2.75e+04   -2.35e+04\n",
      "housing_median_age          1072.5200     43.886     24.439      0.000     986.501    1158.540\n",
      "total_rooms                   -6.1933      0.791     -7.825      0.000      -7.745      -4.642\n",
      "total_bedrooms               100.5563      6.869     14.640      0.000      87.093     114.019\n",
      "population                   -37.9691      1.076    -35.282      0.000     -40.078     -35.860\n",
      "households                    49.6173      7.451      6.659      0.000      35.012      64.222\n",
      "median_income               3.926e+04    338.005    116.151      0.000    3.86e+04    3.99e+04\n",
      "ocean_proximity_INLAND     -3.928e+04   1744.258    -22.522      0.000   -4.27e+04   -3.59e+04\n",
      "ocean_proximity_ISLAND      1.529e+05   3.07e+04      4.974      0.000    9.26e+04    2.13e+05\n",
      "ocean_proximity_NEAR BAY   -3954.0516   1913.339     -2.067      0.039   -7704.350    -203.753\n",
      "ocean_proximity_NEAR OCEAN  4278.1343   1569.525      2.726      0.006    1201.739    7354.530\n",
      "==============================================================================\n",
      "Omnibus:                     5049.292   Durbin-Watson:                   0.977\n",
      "Prob(Omnibus):                  0.000   Jarque-Bera (JB):            19123.138\n",
      "Skew:                           1.197   Prob(JB):                         0.00\n",
      "Kurtosis:                       7.090   Cond. No.                     7.24e+05\n",
      "==============================================================================\n",
      "\n",
      "Notes:\n",
      "[1] Standard Errors assume that the covariance matrix of the errors is correctly specified.\n",
      "[2] The condition number is large, 7.24e+05. This might indicate that there are\n",
      "strong multicollinearity or other numerical problems.\n"
     ]
    }
   ],
   "source": [
    "import pandas as pd\n",
    "import numpy as np\n",
    "import statsmodels.api as sm\n",
    "\n",
    "df = pd.read_csv('https://raw.githubusercontent.com/artamonoff/Econometrica/master/python-notebooks/data-csv/californigaHousingPrice.csv')\n",
    "\n",
    "df = df.dropna()\n",
    "\n",
    "df = df.replace([np.inf, -np.inf], np.nan).dropna(axis=1)\n",
    "\n",
    "df = pd.get_dummies(df, columns=['ocean_proximity'], drop_first=True)\n",
    "\n",
    "X = df.drop('median_house_value', axis=1)\n",
    "X = sm.add_constant(X)  \n",
    "y = df['median_house_value']\n",
    "\n",
    "\n",
    "model = sm.OLS(y, X)\n",
    "results = model.fit()\n",
    "\n",
    "print(results.summary())\n"
   ]
  },
  {
   "cell_type": "markdown",
   "metadata": {},
   "source": [
    "# 6. Дайте интерпритацию значимым коэффициентам"
   ]
  },
  {
   "cell_type": "code",
   "execution_count": 10,
   "metadata": {},
   "outputs": [
    {
     "name": "stdout",
     "output_type": "stream",
     "text": [
      "Коэффициент: const\n",
      "Значение коэффициента: 240345.5282\n",
      "p-значение: 0.0000\n",
      "-------------------------------------\n",
      "Коэффициент: ocean_proximity_NEAR BAY\n",
      "Значение коэффициента: 18933.7639\n",
      "p-значение: 0.0000\n",
      "Интерпретация: Коэффициент 'ocean_proximity_NEAR BAY' указывает на разницу между домами, расположенными на берегу залива и другими областями. Положительное значение коэффициента означает, что дома, расположенные рядом с заливом, имеют более высокую медианную стоимость по сравнению с другими областями, контролируя другие факторы.\n",
      "-------------------------------------\n",
      "Коэффициент: ocean_proximity_NEAR OCEAN\n",
      "Значение коэффициента: 8696.8269\n",
      "p-значение: 0.0001\n",
      "Интерпретация: Коэффициент 'ocean_proximity_NEAR OCEAN' указывает на разницу между домами, расположенными рядом с океаном и другими областями. Положительное значение коэффициента означает, что дома, расположенные рядом с океаном, имеют более высокую медианную стоимость по сравнению с другими областями, контролируя другие факторы.\n",
      "-------------------------------------\n",
      "Коэффициент: ocean_proximity_INLAND\n",
      "Значение коэффициента: -115448.6650\n",
      "p-значение: 0.0000\n",
      "Интерпретация: Коэффициент 'ocean_proximity_INLAND' указывает на разницу между домами, расположенными внутри страны и другими областями. Отрицательное значение коэффициента означает, что дома, расположенные внутри страны, имеют более низкую медианную стоимость по сравнению с другими областями, контролируя другие факторы.\n",
      "-------------------------------------\n"
     ]
    }
   ],
   "source": [
    "alpha = 0.01\n",
    "\n",
    "X = df[['ocean_proximity_NEAR BAY', 'ocean_proximity_NEAR OCEAN', 'ocean_proximity_INLAND']]\n",
    "X = sm.add_constant(X)\n",
    "y = df['median_house_value']\n",
    "\n",
    "model = sm.OLS(y, X)\n",
    "results = model.fit()\n",
    "\n",
    "significant_coeffs = results.pvalues[results.pvalues < alpha]\n",
    "\n",
    "for coeff_name, p_value in significant_coeffs.items():\n",
    "    coefficient = results.params[coeff_name]\n",
    "    print(f\"Коэффициент: {coeff_name}\")\n",
    "    print(f\"Значение коэффициента: {coefficient:.4f}\")\n",
    "    print(f\"p-значение: {p_value:.4f}\")\n",
    "    \n",
    "    if coeff_name == 'ocean_proximity_NEAR BAY':\n",
    "        print(\"Интерпретация: Коэффициент 'ocean_proximity_NEAR BAY' указывает на разницу между домами, расположенными на берегу залива и другими областями. Положительное значение коэффициента означает, что дома, расположенные рядом с заливом, имеют более высокую медианную стоимость по сравнению с другими областями, контролируя другие факторы.\")\n",
    "    \n",
    "    if coeff_name == 'ocean_proximity_NEAR OCEAN':\n",
    "        print(\"Интерпретация: Коэффициент 'ocean_proximity_NEAR OCEAN' указывает на разницу между домами, расположенными рядом с океаном и другими областями. Положительное значение коэффициента означает, что дома, расположенные рядом с океаном, имеют более высокую медианную стоимость по сравнению с другими областями, контролируя другие факторы.\")\n",
    "    \n",
    "    if coeff_name == 'ocean_proximity_INLAND':\n",
    "        print(\"Интерпретация: Коэффициент 'ocean_proximity_INLAND' указывает на разницу между домами, расположенными внутри страны и другими областями. Отрицательное значение коэффициента означает, что дома, расположенные внутри страны, имеют более низкую медианную стоимость по сравнению с другими областями, контролируя другие факторы.\")\n",
    "\n",
    "    print(\"-------------------------------------\")\n"
   ]
  },
  {
   "cell_type": "markdown",
   "metadata": {},
   "source": [
    "# 7. Вычислите 3 любых прогнозируемых значения"
   ]
  },
  {
   "cell_type": "code",
   "execution_count": 18,
   "metadata": {},
   "outputs": [
    {
     "name": "stdout",
     "output_type": "stream",
     "text": [
      "\n",
      "1 9593953.027218856\n"
     ]
    }
   ],
   "source": [
    "df = pd.read_csv('https://raw.githubusercontent.com/artamonoff/Econometrica/master/python-notebooks/data-csv/californigaHousingPrice.csv')\n",
    "total_rooms = df['total_rooms'].mean()\n",
    "population = df['population'].mean()\n",
    "ocean_proximity_inland = 1\n",
    "\n",
    "X_pred = np.array([[total_rooms, population, ocean_proximity_inland]])\n",
    "\n",
    "X_pred = np.concatenate((np.ones((X_pred.shape[0], 1)), X_pred), axis=1)\n",
    "\n",
    "y_pred = np.dot(X_pred, results.params)\n",
    "\n",
    "print()\n",
    "for i in range(len(y_pred)):\n",
    "    print(i+1, y_pred[i])\n"
   ]
  },
  {
   "cell_type": "markdown",
   "metadata": {},
   "source": [
    "Прогнозные значения медианной стоимости жилья:\n",
    "    Прогноз 1 : 62426937.228593044"
   ]
  },
  {
   "cell_type": "markdown",
   "metadata": {},
   "source": [
    "# 8. Вычислите коэффициент детерминации регрессии и стандартную ошибку регресии."
   ]
  },
  {
   "cell_type": "code",
   "execution_count": 15,
   "metadata": {},
   "outputs": [
    {
     "name": "stdout",
     "output_type": "stream",
     "text": [
      "0.23759510148275387\n",
      "100800.9770795576\n"
     ]
    }
   ],
   "source": [
    "r_squared = results.rsquared\n",
    "standard_error = np.sqrt(results.scale)\n",
    "\n",
    "print(r_squared)\n",
    "print(standard_error)\n"
   ]
  },
  {
   "cell_type": "markdown",
   "metadata": {},
   "source": [
    "Коэффициент детерминации (R-квадрат) : 0.23759510148275387\n",
    "Стандартная ошибка регрессии: 100800.9770795576"
   ]
  },
  {
   "cell_type": "markdown",
   "metadata": {},
   "source": [
    "# 9. Вычислите исправленный коэффициент детермиинации."
   ]
  },
  {
   "cell_type": "code",
   "execution_count": 16,
   "metadata": {},
   "outputs": [
    {
     "name": "stdout",
     "output_type": "stream",
     "text": [
      "0.23748314227302492\n"
     ]
    }
   ],
   "source": [
    "adjusted_r_squared = results.rsquared_adj\n",
    "\n",
    "print(adjusted_r_squared)"
   ]
  },
  {
   "cell_type": "markdown",
   "metadata": {},
   "source": [
    "Исправленный коэф деьтерминации равен = 0.23748314227302492"
   ]
  },
  {
   "cell_type": "code",
   "execution_count": null,
   "metadata": {},
   "outputs": [],
   "source": []
  }
 ],
 "metadata": {
  "kernelspec": {
   "display_name": "Python 3 (ipykernel)",
   "language": "python",
   "name": "python3"
  },
  "language_info": {
   "codemirror_mode": {
    "name": "ipython",
    "version": 3
   },
   "file_extension": ".py",
   "mimetype": "text/x-python",
   "name": "python",
   "nbconvert_exporter": "python",
   "pygments_lexer": "ipython3",
   "version": "3.9.16"
  }
 },
 "nbformat": 4,
 "nbformat_minor": 2
}
